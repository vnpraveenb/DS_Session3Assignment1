{
 "cells": [
  {
   "cell_type": "code",
   "execution_count": 8,
   "metadata": {},
   "outputs": [
    {
     "name": "stdout",
     "output_type": "stream",
     "text": [
      "0\n",
      "96\n",
      "720\n"
     ]
    }
   ],
   "source": [
    "## myreduce() function\n",
    "\n",
    "def myreduce(func,thelist): # reduce() Applies a rolling computation of the function to sequential pairs of values in a list\n",
    "    if (len(thelist) == 1): # If there is only one element in the list, the it returns the element\n",
    "        return thelist[0]\n",
    "    else:                   # Else, it performs rolling computation of the function on the values in the list\n",
    "        var1=thelist[0]     # 1st value in the list is stored in var1\n",
    "        for a in thelist [1:]: # Iterates through all the values of the list from the 2nd element through to the end of the \n",
    "                               # list and stores the value of element accessed in each iteration in variable a\n",
    "            var2 = a  # The value of a is stored in var2. \n",
    "            result = func(var1,var2) # Stores the result of the function in result\n",
    "            var1 = result  # Stores the result of the function in var1\n",
    "        return var1\n",
    "    \n",
    "print(myreduce(lambda x,y: x+y, range(-5,6)))\n",
    "    \n",
    "print(myreduce(lambda x,y: x+y, [10,11,12,20,21,22]))\n",
    "\n",
    "print(myreduce(lambda x,y: x*y, [1,2,3,4,5,6]))\n",
    "\n"
   ]
  },
  {
   "cell_type": "code",
   "execution_count": 21,
   "metadata": {},
   "outputs": [
    {
     "name": "stdout",
     "output_type": "stream",
     "text": [
      "[-10, -9, -8, -7, -6, -5, -4, -3, -2, -1]\n",
      "[20, 21, 22]\n",
      "[5, 6]\n"
     ]
    }
   ],
   "source": [
    "## myfilter() function\n",
    "def myfilter(funct,thelist1): # Creates a list of elements for which a function returns true\n",
    "    filteredlist =[]          # Empty list to store the elements where function returns true\n",
    "    for b in thelist1:        # Iterates through all values of thelist1\n",
    "        if funct(b):          # if function returns true for a specific element, appends to the filteredlist\n",
    "            filteredlist.append(b)\n",
    "    return filteredlist        \n",
    "\n",
    "print(myfilter(lambda x: x < 0, range(-10,10)))\n",
    "    \n",
    "print(myfilter(lambda x: x>15, [10,11,12,20,21,22]))\n",
    "\n",
    "print(myfilter(lambda x: x*2>=10, [1,2,3,4,5,6]))\n"
   ]
  }
 ],
 "metadata": {
  "kernelspec": {
   "display_name": "Python 3",
   "language": "python",
   "name": "python3"
  },
  "language_info": {
   "codemirror_mode": {
    "name": "ipython",
    "version": 3
   },
   "file_extension": ".py",
   "mimetype": "text/x-python",
   "name": "python",
   "nbconvert_exporter": "python",
   "pygments_lexer": "ipython3",
   "version": "3.6.4"
  }
 },
 "nbformat": 4,
 "nbformat_minor": 2
}
